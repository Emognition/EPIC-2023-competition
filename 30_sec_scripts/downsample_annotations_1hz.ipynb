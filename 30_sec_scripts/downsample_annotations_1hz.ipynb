{
 "cells": [
  {
   "cell_type": "markdown",
   "metadata": {},
   "source": [
    "### Script explanation:\n",
    "\n",
    "This code processes the Emognition 2023 challenge data by down-sampling the annotation files for each scenario and fold, and saves the down-sampled data as new CSV files.\n",
    "\n",
    "specifically:\n",
    "  - Sets the base_folder_path to the path where the Emognition 2023 challenge data is stored.\n",
    "\n",
    "  - Defines a dictionary scenario_folds that maps scenario numbers to the number of folds for each scenario.\n",
    "\n",
    "  - Loops through the scenario numbers (1 to 4) and sets the scenario_folder variable accordingly.\n",
    "\n",
    "  - Within the loop, it iterates through the folds based on the number of folds for the current scenario.\n",
    "\n",
    "  - Depending on the number of folds for the current scenario, it sets the paths for the training and testing data folders, particularly the train_annotations_folder.\n",
    "\n",
    "  - Loops through the files in the train_annotations_folder, looking for CSV files that don't have \"resampled\" in their file names.\n",
    "\n",
    "  - For each CSV file found, it reads the data into a pandas DataFrame, down-samples the data by taking every 20th row, and saves the down-sampled data to a new CSV file with the suffix \"_resampled_1hz.csv\".\n"
   ]
  },
  {
   "cell_type": "code",
   "execution_count": null,
   "metadata": {},
   "outputs": [],
   "source": [
    "import pandas as pd\n",
    "import numpy as np\n",
    "import os"
   ]
  },
  {
   "cell_type": "code",
   "execution_count": 14,
   "metadata": {},
   "outputs": [],
   "source": [
    "base_folder_path = \"/work/abslab/emognition_2023_challenge/data/\"\n",
    "\n",
    "scenario_folds = {\n",
    "    1: 1,  # 1 fold for scenario 1\n",
    "    2: 5,  # 5 folds for scenario 2\n",
    "    3: 4,  # 4 folds for scenario 3\n",
    "    4: 2,  # 2 folds for scenario 4\n",
    "}\n",
    "\n",
    "# Loop through the scenario folders\n",
    "for scenario_num in range(1, 5):  # 1, 2, 3, and 4\n",
    "    scenario_folder = f\"scenario_{scenario_num}\"\n",
    "#     save_folder = os.path.join(output_folder, scenario_folder)\n",
    "    \n",
    "    for fold_num in range(0, scenario_folds[scenario_num]):  # Iterate through the folds based on the number of folds for the current scenario\n",
    "        if scenario_folds[scenario_num] == 1:\n",
    "            fold_folder = None\n",
    "            \n",
    "            # Set the paths for the training and testing data folders\n",
    "#             train_physio_folder = os.path.join(base_folder_path, scenario_folder, \"train\", \"physiology\")\n",
    "            train_annotations_folder = os.path.join(base_folder_path, scenario_folder, \"train\", \"annotations\")\n",
    "        else:\n",
    "            fold_folder = f\"fold_{fold_num}\"\n",
    "\n",
    "            # Set the paths for the training and testing data folders\n",
    "#             train_physio_folder = os.path.join(base_folder_path, scenario_folder, fold_folder, \"train\", \"physiology\")\n",
    "            train_annotations_folder = os.path.join(base_folder_path, scenario_folder, fold_folder, \"train\", \"annotations\")\n",
    "        \n",
    "#         fold_data = pd.DataFrame()\n",
    "#         if fold_folder is not None:\n",
    "#             fold_save_folder = os.path.join(save_folder, fold_folder)\n",
    "#         else:\n",
    "#             fold_save_folder = save_folder\n",
    "        \n",
    "        for file in os.listdir(train_annotations_folder):\n",
    "            if file.endswith(\".csv\") and \"resampled\" not in file:\n",
    "                file_ = os.path.join(train_annotations_folder, file)\n",
    "                data = pd.read_csv(file_)\n",
    "                data = data[::20]\n",
    "                output_file_name = file_[:-len(\".csv\")] + \"_resampled_1hz.csv\"\n",
    "                data.to_csv(output_file_name, index=False)\n",
    "                \n",
    "                "
   ]
  },
  {
   "cell_type": "code",
   "execution_count": null,
   "metadata": {},
   "outputs": [],
   "source": []
  }
 ],
 "metadata": {
  "kernelspec": {
   "display_name": "Python 3",
   "language": "python",
   "name": "python3"
  },
  "language_info": {
   "codemirror_mode": {
    "name": "ipython",
    "version": 3
   },
   "file_extension": ".py",
   "mimetype": "text/x-python",
   "name": "python",
   "nbconvert_exporter": "python",
   "pygments_lexer": "ipython3",
   "version": "3.7.6"
  }
 },
 "nbformat": 4,
 "nbformat_minor": 4
}
